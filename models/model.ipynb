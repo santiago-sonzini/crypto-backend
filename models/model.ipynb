{
  "cells": [
    {
      "cell_type": "code",
      "execution_count": 1,
      "metadata": {
        "id": "j8btGeEBsDGo"
      },
      "outputs": [
        {
          "name": "stderr",
          "output_type": "stream",
          "text": [
            "2023-06-05 08:03:04.002407: I tensorflow/core/platform/cpu_feature_guard.cc:193] This TensorFlow binary is optimized with oneAPI Deep Neural Network Library (oneDNN) to use the following CPU instructions in performance-critical operations:  SSE4.1 SSE4.2\n",
            "To enable them in other operations, rebuild TensorFlow with the appropriate compiler flags.\n"
          ]
        }
      ],
      "source": [
        "import numpy as np\n",
        "import matplotlib.pyplot as plt\n",
        "import pandas as pd\n",
        "import datetime as dt\n",
        "import tensorflow as tf\n",
        "from sklearn.linear_model import LinearRegression\n",
        "from sklearn.model_selection import train_test_split\n",
        "import requests\n",
        "import pickle\n",
        "\n"
      ]
    },
    {
      "cell_type": "code",
      "execution_count": 2,
      "metadata": {
        "colab": {
          "base_uri": "https://localhost:8080/",
          "height": 206
        },
        "id": "vdm-YyA7sg47",
        "outputId": "1021d71f-9133-449b-9b9e-39d6182107ba"
      },
      "outputs": [
        {
          "data": {
            "text/plain": [
              "(1000, 5)"
            ]
          },
          "execution_count": 2,
          "metadata": {},
          "output_type": "execute_result"
        }
      ],
      "source": [
        "def getdata(coin): \n",
        "    url = f'https://www.alphavantage.co/query?function=DIGITAL_CURRENCY_DAILY&symbol={coin}&market=ARS&apikey=P7226BKG9ND08BME'\n",
        "    r = requests.get(url)\n",
        "    data = r.json()\n",
        "    df = pd.DataFrame.from_dict(data[\"Time Series (Digital Currency Daily)\"], orient='index')\n",
        "    df = df.drop(['1a. open (ARS)', '2a. high (ARS)', '3a. low (ARS)', '4a. close (ARS)', '6. market cap (USD)'], axis=1)\n",
        "    \n",
        "    df = df.rename(columns={\"1b. open (USD)\": \"Open\", \"2b. high (USD)\": \"High\", \"3b. low (USD)\": 'Low', '4b. close (USD)': 'Close', '5. volume': \"Volume\"})\n",
        "    df.index = pd.to_datetime(df.index)\n",
        "    return df"
      ]
    },
    {
      "cell_type": "code",
      "execution_count": 8,
      "metadata": {},
      "outputs": [],
      "source": [
        "def prepare_data(data):\n",
        "    required_features = ['Open', 'High', 'Low', 'Volume']\n",
        "    output_label = 'Close'\n",
        "    data = data.apply(lambda x: x.astype('float64'))\n",
        "    train_data = data[60:900]\n",
        "    x_train, x_test, y_train, y_test = train_test_split(\n",
        "    train_data[required_features],\n",
        "    train_data[output_label],\n",
        "    test_size = 0.3)\n",
        "    return x_train, x_test, y_train, y_test\n",
        "\n",
        "def create_model(x_train, x_test, y_train, y_test):\n",
        "    model = LinearRegression()\n",
        "    model.fit(x_train, y_train)\n",
        "    print(\"model: \",  model)\n",
        "    print(\"model scored: \",  model.score(x_test, y_test))\n",
        "    return model"
      ]
    },
    {
      "cell_type": "code",
      "execution_count": 15,
      "metadata": {},
      "outputs": [],
      "source": [
        "def get_models(coins):\n",
        "    models = []\n",
        "    for i in coins:\n",
        "        df = getdata(i)\n",
        "        x_train, x_test, y_train, y_test = prepare_data(df)\n",
        "        model = create_model( x_train, x_test, y_train, y_test)\n",
        "        save_model(model,i)\n",
        "        models.append(model)\n",
        "    return models\n",
        "    \n",
        "def save_model(model,coin):\n",
        "    filename = f'{coin}LinearModel.sav'\n",
        "    pickle.dump(model, open(filename, 'wb'))\n",
        "    \n",
        "def load_model(coin):\n",
        "    model = pickle.load(open(f'{coin}LinearModel.sav', 'rb'))                 \n",
        "    return model\n",
        "    "
      ]
    },
    {
      "cell_type": "code",
      "execution_count": null,
      "metadata": {},
      "outputs": [],
      "source": [
        "\n",
        "ETH,DOGE, BTC = get_models(['ETH',\"DOGE\", \"BTC\"])"
      ]
    },
    {
      "cell_type": "code",
      "execution_count": 44,
      "metadata": {},
      "outputs": [
        {
          "name": "stderr",
          "output_type": "stream",
          "text": [
            "/Users/santiagosonzini/opt/anaconda3/envs/crypto-1/lib/python3.9/site-packages/sklearn/base.py:439: UserWarning: X does not have valid feature names, but LinearRegression was fitted with feature names\n",
            "  warnings.warn(\n"
          ]
        },
        {
          "data": {
            "text/plain": [
              "array([26855.418], dtype=float32)"
            ]
          },
          "execution_count": 44,
          "metadata": {},
          "output_type": "execute_result"
        }
      ],
      "source": [
        "def get_today(coin, model):\n",
        "    \n",
        "    df = getdata(coin)\n",
        "    \n",
        "    today =df.loc['2023-06-05'].drop(\"Close\").to_numpy().reshape(1,-1)\n",
        "    \n",
        "    prediction = model.predict(today).astype('float32')\n",
        "    return prediction\n",
        "\n",
        "prediction = get_today(\"BTC\", BTC)\n",
        "prediction"
      ]
    },
    {
      "cell_type": "code",
      "execution_count": null,
      "metadata": {},
      "outputs": [],
      "source": [
        "def plot_diff(x,y,prediction):\n",
        "    plt.rcParams.update({'font.size': 7})\n",
        "    plt.title(\"BTC linear regression\")\n",
        "    plt.plot(x,y,  label='Actual Price', )\n",
        "    plt.plot(x,prediction, label='Predicted Price')\n",
        "    plt.legend(loc=\"upper right\")\n",
        "    plt.xlabel(\"Date\")\n",
        "    plt.ylabel('Price (USD)')\n",
        "    plt.show()"
      ]
    }
  ],
  "metadata": {
    "colab": {
      "provenance": []
    },
    "kernelspec": {
      "display_name": "Python 3",
      "name": "python3"
    },
    "language_info": {
      "codemirror_mode": {
        "name": "ipython",
        "version": 3
      },
      "file_extension": ".py",
      "mimetype": "text/x-python",
      "name": "python",
      "nbconvert_exporter": "python",
      "pygments_lexer": "ipython3",
      "version": "3.9.16"
    }
  },
  "nbformat": 4,
  "nbformat_minor": 0
}
